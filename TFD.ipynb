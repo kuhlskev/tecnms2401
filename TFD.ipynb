{
 "cells": [
  {
   "cell_type": "markdown",
   "metadata": {
    "deletable": true,
    "editable": true
   },
   "source": [
    "# Tech Field Day CLUS 2017 \n",
    "# APIs have arrived to network devices: With models"
   ]
  },
  {
   "cell_type": "markdown",
   "metadata": {
    "deletable": true,
    "editable": true
   },
   "source": [
    "# Table of Contents\n",
    "<div class=\"lev1 toc-item\"><a href=\"#Jupyter-Notebooks\" data-toc-modified-id=\"Jupyter-Notebooks-1\"><span class=\"toc-item-num\">1&nbsp;&nbsp;</span>Jupyter Notebooks</a></div>\n",
    "<div class=\"lev1 toc-item\"><a href=\"#Operational-Data-via-CLI-Automation\" data-toc-modified-id=\"Operational-Data-via-CLI-Automation-2\"><span class=\"toc-item-num\">2&nbsp;&nbsp;</span>Operational Data via CLI Automation</a></div>\n",
    "<div class=\"lev1 toc-item\"><a href=\"#NETCONF/YANG\" data-toc-modified-id=\"NETCONF/YANG-3\"><span class=\"toc-item-num\">3&nbsp;&nbsp;</span>NETCONF/YANG</a></div>\n",
    "<div class=\"lev2 toc-item\"><a href=\"#NETCONF-Routing-Table\" data-toc-modified-id=\"NETCONF-Routing-Table-31\"><span class=\"toc-item-num\">3.1&nbsp;&nbsp;</span>NETCONF Routing Table</a></div>\n",
    "\n",
    "<div class=\"lev2 toc-item\"><a href=\"#YANG-Models\" data-toc-modified-id=\"YANG-Models-32\"><span class=\"toc-item-num\">3.2&nbsp;&nbsp;</span>YANG Models</a></div>\n",
    "\n",
    "<div class=\"lev2 toc-item\"><a href=\"#NETCONF-Operational-Data\" data-toc-modified-id=\"NETCONF-Operational-Data-33\"><span class=\"toc-item-num\">3.3&nbsp;&nbsp;</span>NETCONF Operational Data</a></div>\n",
    "\n",
    "<div class=\"lev2 toc-item\"><a href=\"#NETCONF-Configuration-Data\" data-toc-modified-id=\"NETCONF-Configuration-Data-33\"><span class=\"toc-item-num\">3.4&nbsp;&nbsp;</span>NETCONF Configuration Data</a></div>\n",
    "\n",
    "<div class=\"lev1 toc-item\"><a href=\"#RESTCONF\" data-toc-modified-id=\"RESTCONF-4\"><span class=\"toc-item-num\">4&nbsp;&nbsp;</span>RESTCONF</a></div>\n",
    "<div class=\"lev1 toc-item\"><a href=\"#YDK\" data-toc-modified-id=\"YDK-5\"><span class=\"toc-item-num\">5&nbsp;&nbsp;</span>YDK</a></div>\n",
    "\n",
    "<div class=\"lev1 toc-item\"><a href=\"#Telemetry\" data-toc-modified-id=\"Telemetry-6\"><span class=\"toc-item-num\">6&nbsp;&nbsp;</span>Telemetry</a></div>"
   ]
  },
  {
   "cell_type": "markdown",
   "metadata": {
    "deletable": true,
    "editable": true
   },
   "source": [
    "# Jupyter Notebooks\n",
    "The *Jupyter Notebooks* in this workbench class are interactive learning environments. We are using them to learn about network device programability in combination with virtual Cisco network devices.\n",
    "\n",
    "Notebooks are **interactive**, the code and text in each notebook can be changed on the fly and the result of those changes can be seen immediately within the notebook itself.\n",
    "\n",
    "Notebooks are organized in *cells*, each displayed *rectangle* or *cell* is basically either Markdown text (like this cell) or Python code. Python code can be *executed* by either clicking the  <span class=\"inline\">![](images/forwardicon.png)</span> in the 'Cell' menu in the menu bar or the key combination 'Shift-Enter'.\n",
    "\n",
    "<div class=\"my-notify-warning\">\n",
    "\n",
    "<p>**IMPORTANT for Execution. PLEASE READ**. At its simplest, this is a playbook and execution is top-down. Code cells will look something like `In [#]:` (with '#' being a number). That's where you want to single-click. To execute the code, simply hit Shift+Enter.</p>\n",
    "\n",
    "<p>The code should execute, and move onto the next cell. The number in `In [#]:` will change and if there is some return value (as opposed to an explicit `print()` statement) it will appear in an `Out [#]:` cell. The numbers will change after each cell execution.</p>\n",
    "\n",
    "<p>It's easy to \"execute\" an entire notebook, task-by-task, by continuing to execute Shift+Return. Also, if you ever see `In [*]:` in your code cells (note the asterisk '\\*'), it just means things are executing, and you are probably waiting on data to come back.</p>\n",
    "\n",
    "<p>So depending on what you're doing, some patience might be required.</p>\n",
    "\n",
    "</div>"
   ]
  },
  {
   "cell_type": "markdown",
   "metadata": {
    "deletable": true,
    "editable": true
   },
   "source": [
    "# Operational Data via CLI Automation\n",
    "Here we will set variables that we will use thoughout the session"
   ]
  },
  {
   "cell_type": "code",
   "execution_count": 1,
   "metadata": {
    "collapsed": true,
    "deletable": true,
    "editable": true
   },
   "outputs": [],
   "source": [
    "HOST = 'RS1-A3850-1'\n",
    "HOST = '172.20.20.10'\n",
    "PORT = 830\n",
    "USER = 'admin'\n",
    "PASS = 'c1sco123'\n",
    "USER = 'vagrant'\n",
    "PASS = 'vagrant'"
   ]
  },
  {
   "cell_type": "markdown",
   "metadata": {
    "deletable": true,
    "editable": true
   },
   "source": [
    "Programmability has been around for a long time over the CLI API.  We all use it for FDN, but there are capabilities added over the years to communicate with devices via Python over ssh leveraging some form of python expect.  In this case we will use a tool called Netmiko.  However the format of the data is meant for human consumption, not a machine interface"
   ]
  },
  {
   "cell_type": "code",
   "execution_count": 2,
   "metadata": {
    "collapsed": false,
    "deletable": true,
    "editable": true
   },
   "outputs": [],
   "source": [
    "import jtextfsm as textfsm\n",
    "from netmiko import ConnectHandler\n",
    "import pprint\n",
    "\n",
    "def get_show_inventory(ip, username, password, enable_secret):\n",
    "    # establish a connection to the device\n",
    "    ssh_connection = ConnectHandler(\n",
    "        device_type='cisco_ios',\n",
    "        ip=ip,\n",
    "        username=username,\n",
    "        password=password,\n",
    "        secret=enable_secret)\n",
    "    # enter enable mode\n",
    "    ssh_connection.enable()\n",
    "    # prepend the command prompt to the result (used to identify the local device)\n",
    "    result = ssh_connection.find_prompt() + \"\\n\"\n",
    "    # execute the show inventory command with extended delay\n",
    "    result += ssh_connection.send_command(\"show inventory\", delay_factor=2)\n",
    "    # close SSH connection\n",
    "    ssh_connection.disconnect()\n",
    "    return result\n"
   ]
  },
  {
   "cell_type": "markdown",
   "metadata": {
    "deletable": true,
    "editable": true
   },
   "source": [
    "If we are lucky there is some clear format of the response that we can leverage regular expression filters to turn the response into programming data types"
   ]
  },
  {
   "cell_type": "code",
   "execution_count": 3,
   "metadata": {
    "collapsed": false,
    "deletable": true,
    "editable": true
   },
   "outputs": [
    {
     "name": "stdout",
     "output_type": "stream",
     "text": [
      "This is what the text looks like\n",
      "rtr1#\n",
      "NAME: \"Chassis\", DESCR: \"Cisco CSR1000V Chassis\"\n",
      "PID: CSR1000V          , VID: V00  , SN: 9K7FMZNX8PK\n",
      "\n",
      "NAME: \"module R0\", DESCR: \"Cisco CSR1000V Route Processor\"\n",
      "PID: CSR1000V          , VID: V00  , SN: JAB1303001C\n",
      "\n",
      "NAME: \"module F0\", DESCR: \"Cisco CSR1000V Embedded Services Processor\"\n",
      "PID: CSR1000V          , VID:      , SN:            \n",
      "\n",
      "\n"
     ]
    },
    {
     "ename": "IOError",
     "evalue": "[Errno 2] No such file or directory: '/home/docker/cli/show_inventory_multiple.textfsm'",
     "output_type": "error",
     "traceback": [
      "\u001b[0;31m---------------------------------------------------------------------------\u001b[0m",
      "\u001b[0;31mIOError\u001b[0m                                   Traceback (most recent call last)",
      "\u001b[0;32m<ipython-input-3-3315e2c509f9>\u001b[0m in \u001b[0;36m<module>\u001b[0;34m()\u001b[0m\n\u001b[1;32m      4\u001b[0m \u001b[0;31m# The argument 'template' is a file handle and 'raw_text_data' is a\u001b[0m\u001b[0;34m\u001b[0m\u001b[0;34m\u001b[0m\u001b[0m\n\u001b[1;32m      5\u001b[0m \u001b[0;31m# string with the content from the show_inventory.txt file\u001b[0m\u001b[0;34m\u001b[0m\u001b[0;34m\u001b[0m\u001b[0m\n\u001b[0;32m----> 6\u001b[0;31m \u001b[0mtemplate\u001b[0m \u001b[0;34m=\u001b[0m \u001b[0mopen\u001b[0m\u001b[0;34m(\u001b[0m\u001b[0;34m\"/home/docker/cli/show_inventory_multiple.textfsm\"\u001b[0m\u001b[0;34m)\u001b[0m\u001b[0;34m\u001b[0m\u001b[0m\n\u001b[0m\u001b[1;32m      7\u001b[0m \u001b[0mre_table\u001b[0m \u001b[0;34m=\u001b[0m \u001b[0mtextfsm\u001b[0m\u001b[0;34m.\u001b[0m\u001b[0mTextFSM\u001b[0m\u001b[0;34m(\u001b[0m\u001b[0mtemplate\u001b[0m\u001b[0;34m)\u001b[0m\u001b[0;34m\u001b[0m\u001b[0m\n\u001b[1;32m      8\u001b[0m \u001b[0mfsm_results\u001b[0m \u001b[0;34m=\u001b[0m \u001b[0mre_table\u001b[0m\u001b[0;34m.\u001b[0m\u001b[0mParseText\u001b[0m\u001b[0;34m(\u001b[0m\u001b[0mraw_text_data\u001b[0m\u001b[0;34m)\u001b[0m\u001b[0;34m\u001b[0m\u001b[0m\n",
      "\u001b[0;31mIOError\u001b[0m: [Errno 2] No such file or directory: '/home/docker/cli/show_inventory_multiple.textfsm'"
     ]
    }
   ],
   "source": [
    "    raw_text_data = get_show_inventory(HOST, USER, PASS, PASS)\n",
    "    print ('This is what the text looks like\\n' + raw_text_data)\n",
    "    # Run the text through the FSM. \n",
    "    # The argument 'template' is a file handle and 'raw_text_data' is a \n",
    "    # string with the content from the show_inventory.txt file\n",
    "    template = open(\"/home/docker/cli/show_inventory_multiple.textfsm\")\n",
    "    re_table = textfsm.TextFSM(template)\n",
    "    fsm_results = re_table.ParseText(raw_text_data)\n",
    "    # build keys for inventory sub-items \n",
    "    keys = [s for s in re_table.header]\n",
    "    #build inventory list of dictionaries\n",
    "    inventory = []\n",
    "    for row in fsm_results:\n",
    "      entry = {}\n",
    "      for i, item in enumerate(row):\n",
    "        entry.update({keys[i]:item})\n",
    "      inventory.append(entry)\n",
    "    pp = pprint.PrettyPrinter(indent=2)"
   ]
  },
  {
   "cell_type": "markdown",
   "metadata": {
    "deletable": true,
    "editable": true
   },
   "source": [
    "Here we can see what the template looks like"
   ]
  },
  {
   "cell_type": "code",
   "execution_count": 4,
   "metadata": {
    "collapsed": false,
    "deletable": true,
    "editable": true
   },
   "outputs": [
    {
     "ename": "NameError",
     "evalue": "name 'template' is not defined",
     "output_type": "error",
     "traceback": [
      "\u001b[0;31m---------------------------------------------------------------------------\u001b[0m",
      "\u001b[0;31mNameError\u001b[0m                                 Traceback (most recent call last)",
      "\u001b[0;32m<ipython-input-4-ecdab409562d>\u001b[0m in \u001b[0;36m<module>\u001b[0;34m()\u001b[0m\n\u001b[0;32m----> 1\u001b[0;31m \u001b[0;32mprint\u001b[0m\u001b[0;34m(\u001b[0m\u001b[0mtemplate\u001b[0m\u001b[0;34m.\u001b[0m\u001b[0mread\u001b[0m\u001b[0;34m(\u001b[0m\u001b[0;34m)\u001b[0m\u001b[0;34m)\u001b[0m\u001b[0;34m\u001b[0m\u001b[0m\n\u001b[0m",
      "\u001b[0;31mNameError\u001b[0m: name 'template' is not defined"
     ]
    }
   ],
   "source": [
    "    print(template.read())"
   ]
  },
  {
   "cell_type": "markdown",
   "metadata": {
    "deletable": true,
    "editable": true
   },
   "source": [
    "Now that we have srtuctured data, lets do something interesting with it.  We can choose how we display it or to even search for a value of interest."
   ]
  },
  {
   "cell_type": "code",
   "execution_count": 5,
   "metadata": {
    "collapsed": false,
    "deletable": true,
    "editable": true
   },
   "outputs": [
    {
     "name": "stdout",
     "output_type": "stream",
     "text": [
      "Results translated through regular expression template organized as a dictonary\n"
     ]
    },
    {
     "ename": "NameError",
     "evalue": "name 'pp' is not defined",
     "output_type": "error",
     "traceback": [
      "\u001b[0;31m---------------------------------------------------------------------------\u001b[0m",
      "\u001b[0;31mNameError\u001b[0m                                 Traceback (most recent call last)",
      "\u001b[0;32m<ipython-input-5-1f9f19412391>\u001b[0m in \u001b[0;36m<module>\u001b[0;34m()\u001b[0m\n\u001b[1;32m      1\u001b[0m \u001b[0;32mprint\u001b[0m\u001b[0;34m(\u001b[0m\u001b[0;34m'Results translated through regular expression template organized as a dictonary'\u001b[0m\u001b[0;34m)\u001b[0m\u001b[0;34m\u001b[0m\u001b[0m\n\u001b[0;32m----> 2\u001b[0;31m \u001b[0mpp\u001b[0m\u001b[0;34m.\u001b[0m\u001b[0mpprint\u001b[0m\u001b[0;34m(\u001b[0m\u001b[0minventory\u001b[0m\u001b[0;34m)\u001b[0m \u001b[0;31m# Print full inventory as dictionary\u001b[0m\u001b[0;34m\u001b[0m\u001b[0m\n\u001b[0m\u001b[1;32m      3\u001b[0m \u001b[0;32mprint\u001b[0m\u001b[0;34m(\u001b[0m\u001b[0;34m[\u001b[0m\u001b[0mkey\u001b[0m \u001b[0;32mfor\u001b[0m \u001b[0mkey\u001b[0m\u001b[0;34m,\u001b[0m \u001b[0mvalue\u001b[0m \u001b[0;32min\u001b[0m \u001b[0minventory\u001b[0m\u001b[0;34m[\u001b[0m\u001b[0;36m0\u001b[0m\u001b[0;34m]\u001b[0m\u001b[0;34m.\u001b[0m\u001b[0mitems\u001b[0m\u001b[0;34m(\u001b[0m\u001b[0;34m)\u001b[0m\u001b[0;34m]\u001b[0m\u001b[0;34m)\u001b[0m  \u001b[0;31m# print key values as list\u001b[0m\u001b[0;34m\u001b[0m\u001b[0m\n\u001b[1;32m      4\u001b[0m \u001b[0;32mfor\u001b[0m \u001b[0mitem\u001b[0m \u001b[0;32min\u001b[0m \u001b[0minventory\u001b[0m\u001b[0;34m:\u001b[0m   \u001b[0;31m# print inventory elements a table\u001b[0m\u001b[0;34m\u001b[0m\u001b[0m\n\u001b[1;32m      5\u001b[0m     \u001b[0;32mprint\u001b[0m\u001b[0;34m(\u001b[0m\u001b[0;34m[\u001b[0m\u001b[0mitem\u001b[0m\u001b[0;34m[\u001b[0m\u001b[0mkey\u001b[0m\u001b[0;34m]\u001b[0m \u001b[0;32mfor\u001b[0m \u001b[0mkey\u001b[0m \u001b[0;32min\u001b[0m \u001b[0mitem\u001b[0m\u001b[0;34m]\u001b[0m\u001b[0;34m)\u001b[0m\u001b[0;34m\u001b[0m\u001b[0m\n",
      "\u001b[0;31mNameError\u001b[0m: name 'pp' is not defined"
     ]
    }
   ],
   "source": [
    "    print('Results translated through regular expression template organized as a dictonary')\n",
    "    pp.pprint(inventory) # Print full inventory as dictionary\n",
    "    print([key for key, value in inventory[0].items()])  # print key values as list\n",
    "    for item in inventory:   # print inventory elements a table \n",
    "        print([item[key] for key in item])\n",
    "    "
   ]
  },
  {
   "cell_type": "code",
   "execution_count": 6,
   "metadata": {
    "collapsed": false,
    "deletable": true,
    "editable": true
   },
   "outputs": [
    {
     "ename": "NameError",
     "evalue": "name 'inventory' is not defined",
     "output_type": "error",
     "traceback": [
      "\u001b[0;31m---------------------------------------------------------------------------\u001b[0m",
      "\u001b[0;31mNameError\u001b[0m                                 Traceback (most recent call last)",
      "\u001b[0;32m<ipython-input-6-7c7a340f13b9>\u001b[0m in \u001b[0;36m<module>\u001b[0;34m()\u001b[0m\n\u001b[1;32m      1\u001b[0m \u001b[0msought_product\u001b[0m \u001b[0;34m=\u001b[0m \u001b[0;34m'C9300-24P-A'\u001b[0m\u001b[0;34m\u001b[0m\u001b[0m\n\u001b[0;32m----> 2\u001b[0;31m \u001b[0mresultlist\u001b[0m \u001b[0;34m=\u001b[0m \u001b[0;34m[\u001b[0m\u001b[0md\u001b[0m \u001b[0;32mfor\u001b[0m \u001b[0md\u001b[0m \u001b[0;32min\u001b[0m \u001b[0minventory\u001b[0m \u001b[0;32mif\u001b[0m \u001b[0md\u001b[0m\u001b[0;34m.\u001b[0m\u001b[0mget\u001b[0m\u001b[0;34m(\u001b[0m\u001b[0;34m'productid'\u001b[0m\u001b[0;34m,\u001b[0m \u001b[0;34m''\u001b[0m\u001b[0;34m)\u001b[0m \u001b[0;34m==\u001b[0m \u001b[0msought_product\u001b[0m\u001b[0;34m]\u001b[0m\u001b[0;34m\u001b[0m\u001b[0m\n\u001b[0m\u001b[1;32m      3\u001b[0m \u001b[0;32mprint\u001b[0m\u001b[0;34m(\u001b[0m\u001b[0;34m'\\nFound Devices with specific productid '\u001b[0m \u001b[0;34m+\u001b[0m \u001b[0msought_product\u001b[0m\u001b[0;34m)\u001b[0m\u001b[0;34m\u001b[0m\u001b[0m\n\u001b[1;32m      4\u001b[0m \u001b[0mpp\u001b[0m\u001b[0;34m.\u001b[0m\u001b[0mpprint\u001b[0m\u001b[0;34m(\u001b[0m\u001b[0mresultlist\u001b[0m\u001b[0;34m)\u001b[0m \u001b[0;31m#print list of devices with sought productid\u001b[0m\u001b[0;34m\u001b[0m\u001b[0m\n\u001b[1;32m      5\u001b[0m \u001b[0;31m#print ([(item['hostname'], item['productid']) for item in resultlist])  #print found items as a tuple\u001b[0m\u001b[0;34m\u001b[0m\u001b[0;34m\u001b[0m\u001b[0m\n",
      "\u001b[0;31mNameError\u001b[0m: name 'inventory' is not defined"
     ]
    }
   ],
   "source": [
    "    sought_product = 'C9300-24P-A'\n",
    "    resultlist = [d for d in inventory if d.get('productid', '') == sought_product]\n",
    "    print('\\nFound Devices with specific productid ' + sought_product)\n",
    "    pp.pprint(resultlist) #print list of devices with sought productid\n",
    "    #print ([(item['hostname'], item['productid']) for item in resultlist])  #print found items as a tuple"
   ]
  },
  {
   "cell_type": "markdown",
   "metadata": {
    "deletable": true,
    "editable": true
   },
   "source": [
    "However, we are not always so lucky to have data that we can easily parse."
   ]
  },
  {
   "cell_type": "code",
   "execution_count": 7,
   "metadata": {
    "collapsed": true,
    "deletable": true,
    "editable": true
   },
   "outputs": [],
   "source": [
    "def get_show_ip_route(ip, username, password, enable_secret):\n",
    "    # establish a connection to the device\n",
    "    ssh_connection = ConnectHandler(\n",
    "        device_type='cisco_ios',\n",
    "        ip=ip,\n",
    "        username=username,\n",
    "        password=password,\n",
    "        secret=enable_secret)\n",
    "    # enter enable mode\n",
    "    ssh_connection.enable()\n",
    "    # prepend the command prompt to the result (used to identify the local device)\n",
    "    result = ssh_connection.find_prompt() + \"\\n\"\n",
    "    # execute the show inventory command with extended delay\n",
    "    result += ssh_connection.send_command(\"show ip route\", delay_factor=2)\n",
    "    # close SSH connection\n",
    "    ssh_connection.disconnect()\n",
    "    return result"
   ]
  },
  {
   "cell_type": "code",
   "execution_count": 8,
   "metadata": {
    "collapsed": false,
    "deletable": true,
    "editable": true,
    "scrolled": true
   },
   "outputs": [
    {
     "name": "stdout",
     "output_type": "stream",
     "text": [
      "This is what the text looks like\n",
      "rtr1#\n",
      "Codes: L - local, C - connected, S - static, R - RIP, M - mobile, B - BGP\n",
      "       D - EIGRP, EX - EIGRP external, O - OSPF, IA - OSPF inter area \n",
      "       N1 - OSPF NSSA external type 1, N2 - OSPF NSSA external type 2\n",
      "       E1 - OSPF external type 1, E2 - OSPF external type 2\n",
      "       i - IS-IS, su - IS-IS summary, L1 - IS-IS level-1, L2 - IS-IS level-2\n",
      "       ia - IS-IS inter area, * - candidate default, U - per-user static route\n",
      "       o - ODR, P - periodic downloaded static route, H - NHRP, l - LISP\n",
      "       a - application route\n",
      "       + - replicated route, % - next hop override, p - overrides from PfR\n",
      "\n",
      "Gateway of last resort is 10.0.2.2 to network 0.0.0.0\n",
      "\n",
      "S*    0.0.0.0/0 [254/0] via 10.0.2.2\n",
      "      10.0.0.0/8 is variably subnetted, 2 subnets, 2 masks\n",
      "C        10.0.2.0/24 is directly connected, GigabitEthernet1\n",
      "L        10.0.2.15/32 is directly connected, GigabitEthernet1\n",
      "      172.16.0.0/16 is variably subnetted, 2 subnets, 2 masks\n",
      "C        172.16.100.0/24 is directly connected, GigabitEthernet3\n",
      "L        172.16.100.10/32 is directly connected, GigabitEthernet3\n",
      "      172.20.0.0/16 is variably subnetted, 2 subnets, 2 masks\n",
      "C        172.20.20.0/24 is directly connected, GigabitEthernet2\n",
      "L        172.20.20.10/32 is directly connected, GigabitEthernet2\n",
      "S     192.168.0.0/24 [1/0] via 172.20.20.100\n",
      "S     192.168.1.0/24 [1/0] via 172.20.20.100\n",
      "S     192.168.2.0/24 [1/0] via 172.20.20.100\n",
      "S     192.168.4.0/24 [1/0] via 172.20.20.100\n",
      "S     198.18.10.0/24 [1/0] via 172.20.20.100\n",
      "S     198.18.11.0/24 [1/0] via 172.20.20.100\n",
      "S     198.18.12.0/24 [1/0] via 172.20.20.100\n",
      "S     198.18.13.0/24 [1/0] via 172.20.20.100\n"
     ]
    }
   ],
   "source": [
    "raw_text_data = get_show_ip_route(HOST, USER, PASS, PASS)\n",
    "print ('This is what the text looks like\\n' + raw_text_data)"
   ]
  },
  {
   "cell_type": "markdown",
   "metadata": {
    "deletable": true,
    "editable": true
   },
   "source": [
    "# NETCONF/YANG\n",
    "So let's take a look at an aternative method of interacting with devices.  Let's consider the machine's needs and leverage a model built for it.  That brings us to NETCONF.  Let's try to grab the routing table via programmatic API\n"
   ]
  },
  {
   "cell_type": "markdown",
   "metadata": {
    "deletable": true,
    "editable": true
   },
   "source": [
    "## NETCONF Routing Table"
   ]
  },
  {
   "cell_type": "code",
   "execution_count": 9,
   "metadata": {
    "collapsed": false,
    "deletable": true,
    "editable": true
   },
   "outputs": [],
   "source": [
    "import ncclient.manager\n",
    "import xml.dom.minidom\n",
    "from ncclient.operations import TimeoutExpiredError\n",
    "import xmltodict\n",
    "import pprint\n",
    "nckwargs = dict(\n",
    "    host=HOST,\n",
    "    port=PORT,\n",
    "    hostkey_verify=False,\n",
    "    username=USER,\n",
    "    password=PASS,\n",
    "    device_params={'name':\"csr\"}\n",
    ")\n",
    "m = ncclient.manager.connect(**nckwargs)  "
   ]
  },
  {
   "cell_type": "code",
   "execution_count": 10,
   "metadata": {
    "collapsed": false,
    "deletable": true,
    "editable": true
   },
   "outputs": [
    {
     "name": "stdout",
     "output_type": "stream",
     "text": [
      "Here we are printing the RIB as XML\n",
      "\n",
      "<?xml version=\"1.0\" ?>\n",
      "<rpc-reply message-id=\"urn:uuid:65746d48-a0af-4799-9e58-e89d7365f7cf\" xmlns=\"urn:ietf:params:xml:ns:netconf:base:1.0\" xmlns:nc=\"urn:ietf:params:xml:ns:netconf:base:1.0\">\n",
      " <data/>\n",
      "</rpc-reply>\n",
      "\n"
     ]
    }
   ],
   "source": [
    "route_filter = '''\n",
    "<filter>\n",
    "  <routing-state xmlns=\"urn:ietf:params:xml:ns:yang:ietf-routing\">\n",
    "    <routing-instance>\n",
    "      <ribs>\n",
    "        <rib>\n",
    "          <name>ipv4-default</name>\n",
    "          <address-family xmlns:v4ur=\"urn:ietf:params:xml:ns:yang:ietf-ipv4-unicast-routing\">v4ur:ipv4-unicast</address-family>\n",
    "          <default-rib>true</default-rib>\n",
    "          <routes/>\n",
    "        </rib>\n",
    "      </ribs>\n",
    "    </routing-instance>\n",
    "  </routing-state>\n",
    "</filter>\n",
    "  '''\n",
    "try:\n",
    "    print ('Here we are printing the RIB as XML\\n')\n",
    "    c = m.get(route_filter)\n",
    "    xmlDom = xml.dom.minidom.parseString(str(c))\n",
    "    print (xmlDom.toprettyxml( indent = \" \" ))\n",
    "except TimeoutExpiredError as e:\n",
    "    print(\"Operation timeout!\")\n",
    "except Exception as e:\n",
    "    print(\"ERORR severity={}, tag={}\".format(e.severity, e.tag))"
   ]
  },
  {
   "cell_type": "markdown",
   "metadata": {
    "deletable": true,
    "editable": true
   },
   "source": [
    "Now that is a lot of information to look through, maybe you are only interested in a few pieces of information per route.  We can apply an XPATH filter, which is to say we will parse the response programmatically and return the interesting data in a condensed format"
   ]
  },
  {
   "cell_type": "code",
   "execution_count": 11,
   "metadata": {
    "collapsed": false,
    "deletable": true,
    "editable": true
   },
   "outputs": [
    {
     "name": "stdout",
     "output_type": "stream",
     "text": [
      "\n",
      "Or we can just grab the information that is interesting\n",
      "\n",
      "[]\n"
     ]
    }
   ],
   "source": [
    "ns = 'urn:ietf:params:xml:ns:yang:ietf-routing'\n",
    "nsmap = dict(rt=ns)\n",
    "route_table=[]\n",
    "routes = c.data.findall(\".//{%s}route\" % ns)\n",
    "for i, route in enumerate(routes):\n",
    "    dest = route.xpath('./rt:destination-prefix/text()', namespaces=nsmap)\n",
    "    hop = route.xpath('./rt:next-hop/rt:next-hop-address/text()', namespaces=nsmap)\n",
    "    intfc = route.xpath('./rt:next-hop/rt:outgoing-interface/text()', namespaces=nsmap)\n",
    "    prot = route.xpath('./rt:source-protocol/text()', namespaces=nsmap)\n",
    "    if len(hop) > 0:\n",
    "        entry = {'hop':hop[0]}\n",
    "    if len(intfc) > 0:\n",
    "        entry = {'intfc':intfc[0]}  \n",
    "    entry.update({'dest':dest[0], 'prot':prot[0]}) \n",
    "    route_table.append(entry)\n",
    "print ('\\nOr we can just grab the information that is interesting\\n')\n",
    "pp = pprint.PrettyPrinter(indent=2)\n",
    "pp.pprint(route_table)  "
   ]
  },
  {
   "cell_type": "markdown",
   "metadata": {
    "deletable": true,
    "editable": true
   },
   "source": [
    "That seems easier to work with, but what are the items we can request?  In this case we can look at the Model."
   ]
  },
  {
   "cell_type": "markdown",
   "metadata": {
    "deletable": true,
    "editable": true
   },
   "source": [
    "## YANG Models\n",
    "The best way to describe a YANG model is to take a look at one.  We can leverage NETCONF protocol to learn the capabilities of a device to include the det of Modles and even download the model schema itself and take a look.  Notice there are 2 types of models, open and native.\n",
    "\n",
    "![  ](images/model_stack.png)\n"
   ]
  },
  {
   "cell_type": "code",
   "execution_count": 12,
   "metadata": {
    "collapsed": false,
    "deletable": true,
    "editable": true
   },
   "outputs": [
    {
     "name": "stdout",
     "output_type": "stream",
     "text": [
      " We are connecting to the device and downloading the YANG Module\n",
      "Now we will do a 'pyang -f tree of openconfig-interfaces.yang'\n",
      "This structure is what data we can get (ro/rw) or set (rw)\n",
      "module: openconfig-interfaces\n",
      "   +--rw interfaces\n",
      "      +--rw interface* [name]\n",
      "         +--rw name             -> ../config/name\n",
      "         +--rw config\n",
      "         |  +--rw type           identityref\n",
      "         |  +--rw mtu?           uint16\n",
      "         |  +--rw name?          string\n",
      "         |  +--rw description?   string\n",
      "         |  +--rw enabled?       boolean\n",
      "         +--ro state\n",
      "         |  +--ro type            identityref\n",
      "         |  +--ro mtu?            uint16\n",
      "         |  +--ro name?           string\n",
      "         |  +--ro description?    string\n",
      "         |  +--ro enabled?        boolean\n",
      "         |  +--ro ifindex?        uint32\n",
      "         |  +--ro admin-status    enumeration\n",
      "         |  +--ro oper-status     enumeration\n",
      "         |  +--ro last-change?    yang:timeticks\n",
      "         |  +--ro counters\n",
      "         |     +--ro in-octets?            yang:counter64\n",
      "         |     +--ro in-unicast-pkts?      yang:counter64\n",
      "         |     +--ro in-broadcast-pkts?    yang:counter64\n",
      "         |     +--ro in-multicast-pkts?    yang:counter64\n",
      "         |     +--ro in-discards?          yang:counter64\n",
      "         |     +--ro in-errors?            yang:counter64\n",
      "         |     +--ro in-unknown-protos?    yang:counter32\n",
      "         |     +--ro out-octets?           yang:counter64\n",
      "         |     +--ro out-unicast-pkts?     yang:counter64\n",
      "         |     +--ro out-broadcast-pkts?   yang:counter64\n",
      "         |     +--ro out-multicast-pkts?   yang:counter64\n",
      "         |     +--ro out-discards?         yang:counter64\n",
      "         |     +--ro out-errors?           yang:counter64\n",
      "         |     +--ro last-clear?           yang:date-and-time\n",
      "         +--rw hold-time\n",
      "         |  +--rw config\n",
      "         |  |  +--rw up?     uint32\n",
      "         |  |  +--rw down?   uint32\n",
      "         |  +--ro state\n",
      "         |     +--ro up?     uint32\n",
      "         |     +--ro down?   uint32\n",
      "         +--rw subinterfaces\n",
      "            +--rw subinterface* [index]\n",
      "               +--rw index     -> ../config/index\n",
      "               +--rw config\n",
      "               |  +--rw index?         uint32\n",
      "               |  +--rw name?          string\n",
      "               |  +--rw description?   string\n",
      "               |  +--rw enabled?       boolean\n",
      "               +--ro state\n",
      "                  +--ro index?          uint32\n",
      "                  +--ro name?           string\n",
      "                  +--ro description?    string\n",
      "                  +--ro enabled?        boolean\n",
      "                  +--ro ifindex?        uint32\n",
      "                  +--ro admin-status    enumeration\n",
      "                  +--ro oper-status     enumeration\n",
      "                  +--ro last-change?    yang:timeticks\n",
      "                  +--ro counters\n",
      "                     +--ro in-octets?            yang:counter64\n",
      "                     +--ro in-unicast-pkts?      yang:counter64\n",
      "                     +--ro in-broadcast-pkts?    yang:counter64\n",
      "                     +--ro in-multicast-pkts?    yang:counter64\n",
      "                     +--ro in-discards?          yang:counter64\n",
      "                     +--ro in-errors?            yang:counter64\n",
      "                     +--ro in-unknown-protos?    yang:counter32\n",
      "                     +--ro out-octets?           yang:counter64\n",
      "                     +--ro out-unicast-pkts?     yang:counter64\n",
      "                     +--ro out-broadcast-pkts?   yang:counter64\n",
      "                     +--ro out-multicast-pkts?   yang:counter64\n",
      "                     +--ro out-discards?         yang:counter64\n",
      "                     +--ro out-errors?           yang:counter64\n",
      "                     +--ro last-clear?           yang:date-and-time\n",
      "\n"
     ]
    }
   ],
   "source": [
    "from subprocess import Popen, PIPE, STDOUT\n",
    "#SCHEMA_TO_GET = 'Cisco-IOS-XE-memory-oper'\n",
    "#SCHEMA_TO_GET = 'Cisco-IOS-XE-process-cpu-oper'\n",
    "#SCHEMA_TO_GET = 'Cisco-IOS-XE-bgp'\n",
    "SCHEMA_TO_GET = 'openconfig-interfaces'\n",
    "#SCHEMA_TO_GET = 'openconfig-acl'\n",
    "#SCHEMA_TO_GET = 'openconfig-rib-bgp'\n",
    "#SCHEMA_TO_GET = 'openconfig-vlan'\n",
    "#SCHEMA_TO_GET = 'openconfig-platform'\n",
    "#SCHEMA_TO_GET = 'ietf-interfaces'\n",
    "print(' We are connecting to the device and downloading the YANG Module')\n",
    "print(\"Now we will do a 'pyang -f tree of %s.yang'\" % SCHEMA_TO_GET)\n",
    "print('This structure is what data we can get (ro/rw) or set (rw)')\n",
    "c = m.get_schema(SCHEMA_TO_GET)\n",
    "p = Popen(['pyang', '-f', 'tree'], stdout=PIPE, stdin=PIPE, stderr=PIPE)\n",
    "stdout_data = p.communicate(input=c.data)[0]\n",
    "print stdout_data"
   ]
  },
  {
   "cell_type": "markdown",
   "metadata": {
    "deletable": true,
    "editable": true
   },
   "source": [
    "Now that we know whats available, we can grab operational data for the device to give us some perspective of its state.  In the coming months this will instead be a telemetry stream that a client could register for vs a poll.  However, we can see the advantage of how we can manipulate the information\n",
    "\n",
    "![](images/netconf_stack.png)"
   ]
  },
  {
   "cell_type": "markdown",
   "metadata": {
    "deletable": true,
    "editable": true
   },
   "source": [
    "## NETCONF Operational Data"
   ]
  },
  {
   "cell_type": "code",
   "execution_count": 13,
   "metadata": {
    "collapsed": false,
    "deletable": true,
    "editable": true
   },
   "outputs": [
    {
     "name": "stdout",
     "output_type": "stream",
     "text": [
      "Using NETCONF, you can present data as XML without any conversion\n",
      "<?xml version=\"1.0\" ?>\n",
      "<rpc-reply message-id=\"urn:uuid:ec4ad867-ac83-4f59-848d-6e7224b8666d\" xmlns=\"urn:ietf:params:xml:ns:netconf:base:1.0\" xmlns:nc=\"urn:ietf:params:xml:ns:netconf:base:1.0\">\n",
      " <data>\n",
      "  <memory-statistics xmlns=\"http://cisco.com/ns/yang/Cisco-IOS-XE-memory-oper\">\n",
      "   <memory-statistic>\n",
      "    <total-memory>1249870192</total-memory>\n",
      "    <used-memory>359953852</used-memory>\n",
      "   </memory-statistic>\n",
      "   <memory-statistic>\n",
      "    <total-memory>3149400</total-memory>\n",
      "    <used-memory>3148576</used-memory>\n",
      "   </memory-statistic>\n",
      "  </memory-statistics>\n",
      " </data>\n",
      "</rpc-reply>\n",
      "\n"
     ]
    }
   ],
   "source": [
    "cpu_util = '''<filter>\n",
    "      <cpu-usage xmlns=\"http://cisco.com/ns/yang/Cisco-IOS-XE-process-cpu-oper\">\n",
    "        <cpu-utilization>\n",
    "          <five-seconds/>\n",
    "        </cpu-utilization>\n",
    "      </cpu-usage>\n",
    "</filter>'''\n",
    "\n",
    "memory = '''<filter><memory-statistics xmlns=\"http://cisco.com/ns/yang/Cisco-IOS-XE-memory-oper\">\n",
    "        <memory-statistic>\n",
    "          <total-memory/>\n",
    "          <used-memory/>\n",
    "        </memory-statistic>\n",
    "      </memory-statistics></filter>'''\n",
    "\n",
    "\n",
    "temp = '''    <filter>\n",
    "      <environment-sensors xmlns=\"http://cisco.com/ns/yang/Cisco-IOS-XE-environment-oper\">\n",
    "        <environment-sensor>\n",
    "          <name/>\n",
    "          <current-reading/>\n",
    "          <sensor-units/>\n",
    "        </environment-sensor>\n",
    "      </environment-sensors>\n",
    "    </filter>'''\n",
    "\n",
    "platform = '''<filter>\n",
    "      <components xmlns=\"http://openconfig.net/yang/platform\">\n",
    "        <component>\n",
    "          <state>\n",
    "            <name/>\n",
    "            <type/>\n",
    "            <description/>\n",
    "            <version/>\n",
    "            <serial-no/>\n",
    "            <part-no/>\n",
    "          </state>\n",
    "        </component>\n",
    "      </components>\n",
    "    </filter>'''\n",
    "\n",
    "print ('Using NETCONF, you can present data as XML without any conversion')\n",
    "response = str( m.get(platform))\n",
    "response = str( m.get(memory))\n",
    "xmlDom = xml.dom.minidom.parseString(response)\n",
    "print xmlDom.toprettyxml( indent = \" \" )"
   ]
  },
  {
   "cell_type": "code",
   "execution_count": 14,
   "metadata": {
    "collapsed": false,
    "deletable": true,
    "editable": true
   },
   "outputs": [
    {
     "name": "stdout",
     "output_type": "stream",
     "text": [
      "Or you can convert to Dictionary/List\n"
     ]
    },
    {
     "ename": "KeyError",
     "evalue": "'components'",
     "output_type": "error",
     "traceback": [
      "\u001b[0;31m---------------------------------------------------------------------------\u001b[0m",
      "\u001b[0;31mKeyError\u001b[0m                                  Traceback (most recent call last)",
      "\u001b[0;32m<ipython-input-14-2958d3986ece>\u001b[0m in \u001b[0;36m<module>\u001b[0;34m()\u001b[0m\n\u001b[1;32m      1\u001b[0m \u001b[0;32mprint\u001b[0m \u001b[0;34m(\u001b[0m\u001b[0;34m'Or you can convert to Dictionary/List'\u001b[0m\u001b[0;34m)\u001b[0m\u001b[0;34m\u001b[0m\u001b[0m\n\u001b[0;32m----> 2\u001b[0;31m \u001b[0mmy_list\u001b[0m \u001b[0;34m=\u001b[0m \u001b[0mxmltodict\u001b[0m\u001b[0;34m.\u001b[0m\u001b[0mparse\u001b[0m\u001b[0;34m(\u001b[0m \u001b[0mresponse\u001b[0m \u001b[0;34m)\u001b[0m\u001b[0;34m[\u001b[0m\u001b[0;34m'rpc-reply'\u001b[0m\u001b[0;34m]\u001b[0m\u001b[0;34m[\u001b[0m\u001b[0;34m'data'\u001b[0m\u001b[0;34m]\u001b[0m\u001b[0;34m[\u001b[0m\u001b[0;34m'components'\u001b[0m\u001b[0;34m]\u001b[0m\u001b[0;34m[\u001b[0m\u001b[0;34m'component'\u001b[0m\u001b[0;34m]\u001b[0m\u001b[0;34m\u001b[0m\u001b[0m\n\u001b[0m\u001b[1;32m      3\u001b[0m \u001b[0mpp\u001b[0m \u001b[0;34m=\u001b[0m \u001b[0mpprint\u001b[0m\u001b[0;34m.\u001b[0m\u001b[0mPrettyPrinter\u001b[0m\u001b[0;34m(\u001b[0m\u001b[0mindent\u001b[0m\u001b[0;34m=\u001b[0m\u001b[0;36m2\u001b[0m\u001b[0;34m)\u001b[0m\u001b[0;34m\u001b[0m\u001b[0m\n\u001b[1;32m      4\u001b[0m \u001b[0;31m# Iterate through response and If it has a serial number, save to a new list/dictionary called my_filtered_list\u001b[0m\u001b[0;34m\u001b[0m\u001b[0;34m\u001b[0m\u001b[0m\n\u001b[1;32m      5\u001b[0m \u001b[0mmy_filtered_list\u001b[0m \u001b[0;34m=\u001b[0m \u001b[0;34m[\u001b[0m\u001b[0mdict\u001b[0m\u001b[0;34m(\u001b[0m\u001b[0mi\u001b[0m\u001b[0;34m[\u001b[0m\u001b[0;34m'state'\u001b[0m\u001b[0;34m]\u001b[0m\u001b[0;34m)\u001b[0m \u001b[0;32mfor\u001b[0m \u001b[0mi\u001b[0m \u001b[0;32min\u001b[0m \u001b[0mmy_list\u001b[0m \u001b[0;32mif\u001b[0m \u001b[0mi\u001b[0m\u001b[0;34m[\u001b[0m\u001b[0;34m'state'\u001b[0m\u001b[0;34m]\u001b[0m\u001b[0;34m[\u001b[0m\u001b[0;34m'serial-no'\u001b[0m\u001b[0;34m]\u001b[0m \u001b[0;32mis\u001b[0m \u001b[0;32mnot\u001b[0m \u001b[0mNone\u001b[0m\u001b[0;34m]\u001b[0m\u001b[0;34m\u001b[0m\u001b[0m\n",
      "\u001b[0;31mKeyError\u001b[0m: 'components'"
     ]
    }
   ],
   "source": [
    "print ('Or you can convert to Dictionary/List')\n",
    "my_list = xmltodict.parse( response )['rpc-reply']['data']['components']['component']\n",
    "pp = pprint.PrettyPrinter(indent=2)\n",
    "# Iterate through response and If it has a serial number, save to a new list/dictionary called my_filtered_list\n",
    "my_filtered_list = [dict(i['state']) for i in my_list if i['state']['serial-no'] is not None] \n",
    "pp.pprint(my_filtered_list)"
   ]
  },
  {
   "cell_type": "code",
   "execution_count": 15,
   "metadata": {
    "collapsed": false,
    "deletable": true,
    "editable": true
   },
   "outputs": [
    {
     "name": "stdout",
     "output_type": "stream",
     "text": [
      "Or you can convert to Dictionary/List\n"
     ]
    },
    {
     "ename": "NameError",
     "evalue": "name 'temp_response' is not defined",
     "output_type": "error",
     "traceback": [
      "\u001b[0;31m---------------------------------------------------------------------------\u001b[0m",
      "\u001b[0;31mNameError\u001b[0m                                 Traceback (most recent call last)",
      "\u001b[0;32m<ipython-input-15-de1fba4f4036>\u001b[0m in \u001b[0;36m<module>\u001b[0;34m()\u001b[0m\n\u001b[1;32m      1\u001b[0m \u001b[0;32mprint\u001b[0m \u001b[0;34m(\u001b[0m\u001b[0;34m'Or you can convert to Dictionary/List'\u001b[0m\u001b[0;34m)\u001b[0m\u001b[0;34m\u001b[0m\u001b[0m\n\u001b[0;32m----> 2\u001b[0;31m \u001b[0mtemp_list\u001b[0m \u001b[0;34m=\u001b[0m \u001b[0mxmltodict\u001b[0m\u001b[0;34m.\u001b[0m\u001b[0mparse\u001b[0m\u001b[0;34m(\u001b[0m \u001b[0mtemp_response\u001b[0m \u001b[0;34m)\u001b[0m\u001b[0;34m[\u001b[0m\u001b[0;34m'rpc-reply'\u001b[0m\u001b[0;34m]\u001b[0m\u001b[0;34m[\u001b[0m\u001b[0;34m'data'\u001b[0m\u001b[0;34m]\u001b[0m\u001b[0;34m[\u001b[0m\u001b[0;34m'environment-sensors'\u001b[0m\u001b[0;34m]\u001b[0m\u001b[0;34m[\u001b[0m\u001b[0;34m'environment-sensor'\u001b[0m\u001b[0;34m]\u001b[0m\u001b[0;34m\u001b[0m\u001b[0m\n\u001b[0m\u001b[1;32m      3\u001b[0m \u001b[0mpp\u001b[0m \u001b[0;34m=\u001b[0m \u001b[0mpprint\u001b[0m\u001b[0;34m.\u001b[0m\u001b[0mPrettyPrinter\u001b[0m\u001b[0;34m(\u001b[0m\u001b[0mindent\u001b[0m\u001b[0;34m=\u001b[0m\u001b[0;36m2\u001b[0m\u001b[0;34m)\u001b[0m\u001b[0;34m\u001b[0m\u001b[0m\n\u001b[1;32m      4\u001b[0m \u001b[0mpp\u001b[0m\u001b[0;34m.\u001b[0m\u001b[0mpprint\u001b[0m\u001b[0;34m(\u001b[0m\u001b[0mtemp_list\u001b[0m\u001b[0;34m)\u001b[0m\u001b[0;34m\u001b[0m\u001b[0m\n",
      "\u001b[0;31mNameError\u001b[0m: name 'temp_response' is not defined"
     ]
    }
   ],
   "source": [
    "print ('Or you can convert to Dictionary/List')\n",
    "temp_list = xmltodict.parse( temp_response )['rpc-reply']['data']['environment-sensors']['environment-sensor']\n",
    "pp = pprint.PrettyPrinter(indent=2)\n",
    "pp.pprint(temp_list) "
   ]
  },
  {
   "cell_type": "markdown",
   "metadata": {
    "deletable": true,
    "editable": true
   },
   "source": [
    "With structured data you can select data thats interesting"
   ]
  },
  {
   "cell_type": "markdown",
   "metadata": {
    "deletable": true,
    "editable": true
   },
   "source": [
    "## NETCONF Configuration Data"
   ]
  },
  {
   "cell_type": "code",
   "execution_count": 16,
   "metadata": {
    "collapsed": false,
    "deletable": true,
    "editable": true,
    "scrolled": true
   },
   "outputs": [
    {
     "name": "stdout",
     "output_type": "stream",
     "text": [
      "\n",
      "Here is the XML data for Interfaces Configuration\n",
      "<?xml version=\"1.0\" ?>\n",
      "<rpc-reply message-id=\"urn:uuid:2a38c46b-a9c9-4964-ba51-31e38d890ead\" xmlns=\"urn:ietf:params:xml:ns:netconf:base:1.0\" xmlns:nc=\"urn:ietf:params:xml:ns:netconf:base:1.0\">\n",
      " <data>\n",
      "  <interfaces xmlns=\"urn:ietf:params:xml:ns:yang:ietf-interfaces\">\n",
      "   <interface>\n",
      "    <name>GigabitEthernet1</name>\n",
      "    <type xmlns:ianaift=\"urn:ietf:params:xml:ns:yang:iana-if-type\">ianaift:ethernetCsmacd</type>\n",
      "    <enabled>true</enabled>\n",
      "    <ipv4 xmlns=\"urn:ietf:params:xml:ns:yang:ietf-ip\"/>\n",
      "    <ipv6 xmlns=\"urn:ietf:params:xml:ns:yang:ietf-ip\"/>\n",
      "   </interface>\n",
      "   <interface>\n",
      "    <name>GigabitEthernet2</name>\n",
      "    <type xmlns:ianaift=\"urn:ietf:params:xml:ns:yang:iana-if-type\">ianaift:ethernetCsmacd</type>\n",
      "    <enabled>true</enabled>\n",
      "    <ipv4 xmlns=\"urn:ietf:params:xml:ns:yang:ietf-ip\">\n",
      "     <address>\n",
      "      <ip>172.20.20.10</ip>\n",
      "      <netmask>255.255.255.0</netmask>\n",
      "     </address>\n",
      "    </ipv4>\n",
      "    <ipv6 xmlns=\"urn:ietf:params:xml:ns:yang:ietf-ip\"/>\n",
      "   </interface>\n",
      "   <interface>\n",
      "    <name>GigabitEthernet3</name>\n",
      "    <type xmlns:ianaift=\"urn:ietf:params:xml:ns:yang:iana-if-type\">ianaift:ethernetCsmacd</type>\n",
      "    <enabled>true</enabled>\n",
      "    <ipv4 xmlns=\"urn:ietf:params:xml:ns:yang:ietf-ip\">\n",
      "     <address>\n",
      "      <ip>172.16.100.10</ip>\n",
      "      <netmask>255.255.255.0</netmask>\n",
      "     </address>\n",
      "    </ipv4>\n",
      "    <ipv6 xmlns=\"urn:ietf:params:xml:ns:yang:ietf-ip\"/>\n",
      "   </interface>\n",
      "  </interfaces>\n",
      " </data>\n",
      "</rpc-reply>\n",
      "\n"
     ]
    }
   ],
   "source": [
    "CONF_FILTER ='''<filter>\n",
    "  <interfaces xmlns=\"urn:ietf:params:xml:ns:yang:ietf-interfaces\">\n",
    "    <interface></interface>\n",
    "  </interfaces>\n",
    "</filter>'''\n",
    "m = ncclient.manager.connect(**nckwargs)\n",
    "print('\\nHere is the XML data for Interfaces Configuration')\n",
    "interfaces = m.get_config('running',CONF_FILTER)\n",
    "print(xml.dom.minidom.parseString(interfaces.xml).toprettyxml(indent=\" \"))"
   ]
  },
  {
   "cell_type": "markdown",
   "metadata": {
    "deletable": true,
    "editable": true
   },
   "source": [
    "# RESTCONF\n",
    "\n",
    "RESTCONF is relative of NETCONF, born from YANG.  It provides access to the same data, but over a REST-like interface.  This extends access to YANG data to just about anything.  It is not a replacement to NETCONF, but instead an extension of a subset of the capabilities to REST capable systems."
   ]
  },
  {
   "cell_type": "markdown",
   "metadata": {
    "deletable": true,
    "editable": true
   },
   "source": [
    "![](images/restconf_stack.jpg)"
   ]
  },
  {
   "cell_type": "code",
   "execution_count": 17,
   "metadata": {
    "collapsed": true,
    "deletable": true,
    "editable": true
   },
   "outputs": [],
   "source": [
    "import requests\n",
    "import json\n",
    "\n",
    "PORT = 443\n",
    "PROT = 'https'\n",
    "\n",
    "API_JSON = 'application/yang-data+json'\n",
    "DATA_JSON = 'application/yang-data+json'\n",
    "\n",
    "def url(method=''):\n",
    "    '''return the proper URL given the global vars and the\n",
    "    method parameter.\n",
    "    '''\n",
    "    return \"{prot}://{host}:{port}/restconf/{method}\".format(prot=PROT, host=HOST, method=method, port=PORT)\n",
    "\n",
    "def pp(data):\n",
    "    '''pretty print the Python object\n",
    "    '''\n",
    "    if isinstance(data, requests.models.Response):\n",
    "        if not data.ok:\n",
    "            print('{}: {}'.format(data.status_code, data.text))\n",
    "            return None\n",
    "        obj = data.json()\n",
    "    else:\n",
    "        obj = data\n",
    "    print(json.dumps(obj, indent=2))\n",
    "    return obj\n",
    "\n",
    "# Setup a global session with proper username and password\n",
    "session = requests.Session()\n",
    "session.auth = (USER, PASS)\n",
    "# we also set the default dictionary with our 'Accept' header\n",
    "session.headers = {'accept': DATA_JSON, 'content-type': DATA_JSON}\n",
    "\n",
    "# are we using HTTPS?\n",
    "if 'https' in PROT:\n",
    "    # dont' verify certificates\n",
    "    session.verify = False\n",
    "    # disable warnings in case we use HTTPS\n",
    "    requests.packages.urllib3.disable_warnings()"
   ]
  },
  {
   "cell_type": "code",
   "execution_count": 18,
   "metadata": {
    "collapsed": false,
    "deletable": true,
    "editable": true
   },
   "outputs": [
    {
     "name": "stdout",
     "output_type": "stream",
     "text": [
      "{\n",
      "  \"restconf\": {\n",
      "    \"operations\": {}, \n",
      "    \"data\": {}, \n",
      "    \"yang-library-version\": \"2016-06-21\"\n",
      "  }\n",
      "}\n"
     ]
    }
   ],
   "source": [
    "o = pp(session.get(url(), headers=dict(accept=API_JSON)))"
   ]
  },
  {
   "cell_type": "code",
   "execution_count": 19,
   "metadata": {
    "collapsed": false,
    "deletable": true,
    "editable": true
   },
   "outputs": [
    {
     "name": "stdout",
     "output_type": "stream",
     "text": [
      "{\n",
      "  \"ietf-restconf-monitoring:restconf-state\": {\n",
      "    \"capabilities\": {\n",
      "      \"capability\": [\n",
      "        \"urn:ietf:params:restconf:capability:defaults:1.0?basic-mode=explicit\", \n",
      "        \"urn:ietf:params:restconf:capability:depth:1.0\", \n",
      "        \"urn:ietf:params:restconf:capability:fields:1.0\", \n",
      "        \"urn:ietf:params:restconf:capability:with-defaults:1.0\", \n",
      "        \"http://tail-f.com/ns/restconf/collection/1.0\", \n",
      "        \"http://tail-f.com/ns/restconf/query-api/1.0\"\n",
      "      ]\n",
      "    }\n",
      "  }\n",
      "}\n"
     ]
    }
   ],
   "source": [
    "o = pp(session.get(url('data/restconf-state')))"
   ]
  },
  {
   "cell_type": "code",
   "execution_count": 21,
   "metadata": {
    "collapsed": false,
    "deletable": true,
    "editable": true
   },
   "outputs": [
    {
     "name": "stdout",
     "output_type": "stream",
     "text": [
      "{\n",
      "  \"openconfig-interfaces:interface\": {\n",
      "    \"state\": {\n",
      "      \"name\": \"GigabitEthernet1\", \n",
      "      \"type\": \"iana-if-type:ethernetCsmacd\", \n",
      "      \"enabled\": true, \n",
      "      \"admin-status\": \"UP\", \n",
      "      \"ifindex\": 1, \n",
      "      \"last-change\": \"2018-06-05T18:18:28.000181+00:00\", \n",
      "      \"oper-status\": \"UP\", \n",
      "      \"counters\": {\n",
      "        \"out-octets\": \"2039295\", \n",
      "        \"out-errors\": \"0\", \n",
      "        \"in-multicast-pkts\": \"0\", \n",
      "        \"out-unicast-pkts\": \"2356\", \n",
      "        \"in-errors\": \"0\", \n",
      "        \"out-multicast-pkts\": \"0\", \n",
      "        \"in-discards\": \"0\", \n",
      "        \"last-clear\": \"2018-06-05T18:16:19.000376+00:00\", \n",
      "        \"in-unicast-pkts\": \"2859\", \n",
      "        \"out-broadcast-pkts\": \"0\", \n",
      "        \"out-discards\": \"0\", \n",
      "        \"in-broadcast-pkts\": \"0\", \n",
      "        \"in-unknown-protos\": 0, \n",
      "        \"in-octets\": \"371005\"\n",
      "      }\n",
      "    }, \n",
      "    \"config\": {\n",
      "      \"enabled\": true, \n",
      "      \"type\": \"iana-if-type:ethernetCsmacd\", \n",
      "      \"name\": \"GigabitEthernet1\"\n",
      "    }, \n",
      "    \"name\": \"GigabitEthernet1\", \n",
      "    \"openconfig-if-ethernet:ethernet\": {\n",
      "      \"state\": {\n",
      "        \"enable-flow-control\": false, \n",
      "        \"port-speed\": \"openconfig-if-ethernet:SPEED_1GB\", \n",
      "        \"auto-negotiate\": true, \n",
      "        \"duplex-mode\": \"FULL\", \n",
      "        \"hw-mac-address\": \"08:00:27:cf:e3:bc\", \n",
      "        \"mac-address\": \"08:00:27:cf:e3:bc\", \n",
      "        \"counters\": {\n",
      "          \"in-fragment-frames\": \"0\", \n",
      "          \"in-oversize-frames\": \"0\", \n",
      "          \"in-mac-pause-frames\": \"0\", \n",
      "          \"in-jabber-frames\": \"0\", \n",
      "          \"in-mac-control-frames\": \"0\", \n",
      "          \"out-mac-control-frames\": \"0\", \n",
      "          \"out-mac-pause-frames\": \"0\"\n",
      "        }\n",
      "      }, \n",
      "      \"config\": {\n",
      "        \"auto-negotiate\": true, \n",
      "        \"mac-address\": \"08:00:27:cf:e3:bc\"\n",
      "      }\n",
      "    }, \n",
      "    \"subinterfaces\": {\n",
      "      \"subinterface\": [\n",
      "        {\n",
      "          \"index\": 0, \n",
      "          \"state\": {\n",
      "            \"index\": 0, \n",
      "            \"name\": \"GigabitEthernet1.0\", \n",
      "            \"admin-status\": \"UP\", \n",
      "            \"enabled\": true, \n",
      "            \"last-change\": \"2018-06-05T18:18:28.000181+00:00\", \n",
      "            \"oper-status\": \"UP\", \n",
      "            \"counters\": {\n",
      "              \"out-octets\": \"2039295\", \n",
      "              \"in-multicast-pkts\": \"0\", \n",
      "              \"out-unicast-pkts\": \"2356\", \n",
      "              \"in-errors\": \"0\", \n",
      "              \"out-multicast-pkts\": \"0\", \n",
      "              \"in-discards\": \"0\", \n",
      "              \"last-clear\": \"2018-06-05T18:16:19.000376+00:00\", \n",
      "              \"in-unicast-pkts\": \"2859\", \n",
      "              \"out-broadcast-pkts\": \"0\", \n",
      "              \"out-discards\": \"0\", \n",
      "              \"in-broadcast-pkts\": \"0\", \n",
      "              \"out-errors\": \"0\", \n",
      "              \"in-octets\": \"371005\"\n",
      "            }\n",
      "          }, \n",
      "          \"openconfig-if-ip:ipv6\": {\n",
      "            \"state\": {\n",
      "              \"enabled\": false\n",
      "            }, \n",
      "            \"config\": {\n",
      "              \"enabled\": false\n",
      "            }\n",
      "          }, \n",
      "          \"config\": {\n",
      "            \"index\": 0, \n",
      "            \"enabled\": true, \n",
      "            \"name\": \"GigabitEthernet1\"\n",
      "          }\n",
      "        }\n",
      "      ]\n",
      "    }\n",
      "  }\n",
      "}\n"
     ]
    }
   ],
   "source": [
    "o = pp(session.get(url('data/openconfig-interfaces:interfaces/interface=GigabitEthernet1')))"
   ]
  },
  {
   "cell_type": "markdown",
   "metadata": {
    "deletable": true,
    "editable": true
   },
   "source": [
    "# YDK\n",
    "Now that we are all Python experts, let's take a different perspective.  Models are similar to Programming languages.  Containers are to Classes, Lists are to Lists, Leafs are to Objects or types.\n",
    "\n",
    "In a community effort we have \"compiled\" the YANG model in to Python code.  By importing a few libraries we can affect change on networking elements simply by manipulating code.  All you need to do to use is \"pip install ydk\" to install.\n",
    "\n",
    "![](images/YDK.png)"
   ]
  },
  {
   "cell_type": "code",
   "execution_count": 22,
   "metadata": {
    "collapsed": false,
    "deletable": true,
    "editable": true
   },
   "outputs": [],
   "source": [
    "from ydk.services import CRUDService\n",
    "from ydk.providers import NetconfServiceProvider\n",
    "from ydk.models.ietf import ietf_interfaces as intf\n",
    "from ydk.models.ietf import iana_if_type as iftype\n",
    "\n",
    "PORT = 830\n",
    "\n",
    "# create NETCONF provider\n",
    "provider = NetconfServiceProvider(address=HOST,\n",
    "                                  port=PORT,\n",
    "                                  username=USER,\n",
    "                                  password=PASS)\n",
    "# create CRUD service\n",
    "crud = CRUDService()\n",
    "\n",
    "# query object\n",
    "q_i = intf.Interfaces()\n",
    "\n",
    "# get stuff\n",
    "intfs = crud.read(provider, q_i)"
   ]
  },
  {
   "cell_type": "code",
   "execution_count": 23,
   "metadata": {
    "collapsed": false,
    "deletable": true,
    "editable": true
   },
   "outputs": [
    {
     "name": "stdout",
     "output_type": "stream",
     "text": [
      "GigabitEthernet1, ethernetCsmacd, None\n",
      "GigabitEthernet2, ethernetCsmacd, None\n",
      "GigabitEthernet3, ethernetCsmacd, None\n"
     ]
    }
   ],
   "source": [
    "# print interface names and types\n",
    "for i in intfs.interface:\n",
    "    print('%s, %s, %s' % (i.name, i.type._meta_info().yang_name, i.description))"
   ]
  },
  {
   "cell_type": "code",
   "execution_count": 24,
   "metadata": {
    "collapsed": false,
    "deletable": true,
    "editable": true
   },
   "outputs": [
    {
     "name": "stdout",
     "output_type": "stream",
     "text": [
      "('GigabitEthernet1', None, 1024, <OperStatusEnum.up: 1>)\n",
      "('GigabitEthernet2', None, 1024, <OperStatusEnum.up: 1>)\n",
      "('GigabitEthernet3', None, 1024, <OperStatusEnum.up: 1>)\n",
      "('Control Plane', None, 1650, <OperStatusEnum.up: 1>)\n"
     ]
    }
   ],
   "source": [
    "q_i = intf.InterfacesState()\n",
    "\n",
    "# get stuff\n",
    "intfs = crud.read(provider, q_i)\n",
    "q_i = intf.InterfacesState()\n",
    "\n",
    "# get stuff\n",
    "intfs = crud.read(provider, q_i)\n",
    "int_info=[(i.name, i.statistics.out_pkts, int(i.speed)/1000000, i.oper_status) for i in intfs.interface]\n",
    "for thing in int_info: print(str(thing))"
   ]
  },
  {
   "cell_type": "markdown",
   "metadata": {
    "deletable": true,
    "editable": true
   },
   "source": [
    "## Create Software Loopback"
   ]
  },
  {
   "cell_type": "code",
   "execution_count": 25,
   "metadata": {
    "collapsed": false,
    "deletable": true,
    "editable": true
   },
   "outputs": [],
   "source": [
    "# new interface\n",
    "new_loopback = intf.Interfaces.Interface()\n",
    "\n",
    "# create a new loopback\n",
    "new_loopback.name = 'Loopback666'\n",
    "new_loopback.type = iftype.SoftwareloopbackIdentity()\n",
    "new_loopback.description = 'Created by DevNet2449'\n",
    "res = crud.create(provider, new_loopback)"
   ]
  },
  {
   "cell_type": "code",
   "execution_count": 26,
   "metadata": {
    "collapsed": false,
    "deletable": true,
    "editable": true
   },
   "outputs": [
    {
     "name": "stdout",
     "output_type": "stream",
     "text": [
      "GigabitEthernet1, ethernetCsmacd, None\n",
      "GigabitEthernet2, ethernetCsmacd, None\n",
      "GigabitEthernet3, ethernetCsmacd, None\n",
      "Loopback666, softwareLoopback, Created by DevNet2449\n"
     ]
    }
   ],
   "source": [
    "# get stuff\n",
    "q_i = intf.Interfaces()\n",
    "intfs = crud.read(provider, q_i)\n",
    "\n",
    "for i in intfs.interface:\n",
    "    print('%s, %s, %s' % (i.name, i.type._meta_info().yang_name, i.description))"
   ]
  },
  {
   "cell_type": "markdown",
   "metadata": {
    "deletable": true,
    "editable": true
   },
   "source": [
    "## Delete Software Loopback"
   ]
  },
  {
   "cell_type": "code",
   "execution_count": 27,
   "metadata": {
    "collapsed": false,
    "deletable": true,
    "editable": true
   },
   "outputs": [],
   "source": [
    "# create CRUD service\n",
    "crud = CRUDService()\n",
    "\n",
    "# interface to delete\n",
    "to_del = intf.Interfaces.Interface()\n",
    "\n",
    "# create a new loopback\n",
    "to_del.name = 'Loopback666'\n",
    "res = crud.delete(provider, to_del)"
   ]
  },
  {
   "cell_type": "code",
   "execution_count": 28,
   "metadata": {
    "collapsed": false,
    "deletable": true,
    "editable": true
   },
   "outputs": [
    {
     "name": "stdout",
     "output_type": "stream",
     "text": [
      "GigabitEthernet1, ethernetCsmacd, None\n",
      "GigabitEthernet2, ethernetCsmacd, None\n",
      "GigabitEthernet3, ethernetCsmacd, None\n"
     ]
    }
   ],
   "source": [
    "# get stuff\n",
    "intfs = crud.read(provider, q_i)\n",
    "\n",
    "for i in intfs.interface:\n",
    "    print('%s, %s, %s' % (i.name, i.type._meta_info().yang_name, i.description))\n",
    "provider.close()"
   ]
  },
  {
   "cell_type": "markdown",
   "metadata": {
    "deletable": true,
    "editable": true
   },
   "source": [
    "# Telemetry\n",
    "\n",
    "Here is a new option to gather data.  Why use SNMP, Syslog, Netflow, etc when you can gather Model based telemetry as simply as sending a request to the device?\n",
    "\n",
    "![](images/telemetry.png)"
   ]
  },
  {
   "cell_type": "code",
   "execution_count": null,
   "metadata": {
    "collapsed": true,
    "deletable": true,
    "editable": true
   },
   "outputs": [],
   "source": [
    "LOCAL = '10.5.193.82'\n",
    "CLIENT = '172.16.54.145'\n",
    "HOST = 'RS1-A3850-1'\n",
    "PORT = 830\n",
    "USER = 'admin'\n",
    "PASS = 'c1sco123'"
   ]
  },
  {
   "cell_type": "code",
   "execution_count": null,
   "metadata": {
    "collapsed": false,
    "deletable": true,
    "editable": true
   },
   "outputs": [],
   "source": [
    "import requests\n",
    "\n",
    "headers = {'Content-Type': 'application/json',}\n",
    "# Grab telemetry on CPU utilization\n",
    "data = '{\"xpath\":\"/process-cpu-ios-xe-oper:cpu-usage/cpu-utilization/five-seconds\", \"period\": 1000, \"incident_id\": 1234}'\n",
    "response = requests.post('http://%s:8320/sendrpc'% (LOCAL), headers=headers, data=data)\n",
    "print response"
   ]
  },
  {
   "cell_type": "code",
   "execution_count": null,
   "metadata": {
    "collapsed": false,
    "deletable": true,
    "editable": true
   },
   "outputs": [],
   "source": [
    "# Grab telemetry on Free Memory\n",
    "data = '{\"xpath\":\"/memory-ios-xe-oper:memory-statistics/memory-statistic/free-memory\",\"period\": 1000, \"incident_id\": 1234}'\n",
    "requests.post('http://%s:8320/sendrpc'% (LOCAL), headers=headers, data=data)"
   ]
  },
  {
   "cell_type": "code",
   "execution_count": null,
   "metadata": {
    "collapsed": false,
    "deletable": true,
    "editable": true
   },
   "outputs": [],
   "source": [
    "# Grab telemetry on Free Memory\n",
    "data = '{\"xpath\":\"/memory-ios-xe-oper:memory-statistics/memory-statistic/used-memory\",\"period\": 1000, \"incident_id\": 1234}'\n",
    "requests.post('http://%s:8320/sendrpc'% (LOCAL), headers=headers, data=data)"
   ]
  },
  {
   "cell_type": "code",
   "execution_count": null,
   "metadata": {
    "collapsed": false,
    "deletable": true,
    "editable": true
   },
   "outputs": [],
   "source": [
    "# Grab telemetry on Input \n",
    "data = '{\"xpath\":\"/if:interfaces-state/interface[name=&quot;GigabitEthernet1/1/1&quot;]/statistics/in-octets\",\"period\": 1000,  \"incident_id\": 1234}'\n",
    "requests.post('http://%s:8320/sendrpc'% (LOCAL), headers=headers, data=data)"
   ]
  },
  {
   "cell_type": "code",
   "execution_count": null,
   "metadata": {
    "collapsed": false,
    "deletable": true,
    "editable": true
   },
   "outputs": [],
   "source": [
    "# Grab telemetry on Output\n",
    "data = '{\"xpath\":\"/if:interfaces-state/interface[name=&quot;GigabitEthernet1/1/1&quot;]/statistics/out-octets\",\"period\": 1000,  \"incident_id\": 1234}'\n",
    "requests.post('http://%s:8320/sendrpc'% (LOCAL), headers=headers, data=data)"
   ]
  },
  {
   "cell_type": "code",
   "execution_count": null,
   "metadata": {
    "collapsed": false,
    "deletable": true,
    "editable": true
   },
   "outputs": [],
   "source": [
    "# Grab telemetry on Output\n",
    "data = '{\"xpath\":\"/environment-ios-xe-oper:environment-sensors/environment-sensor/current-reading\",\"period\": 1000,  \"incident_id\": 1234}'\n",
    "requests.post('http://%s:8320/sendrpc'% (LOCAL), headers=headers, data=data)"
   ]
  },
  {
   "cell_type": "code",
   "execution_count": null,
   "metadata": {
    "collapsed": false,
    "deletable": true,
    "editable": true
   },
   "outputs": [],
   "source": [
    "# Grab telemetry on ACL Hit\n",
    "data = '{\"xpath\":\"/oc-acl:acl/acl-sets/acl-set[name=&quot;VTY-ACL&quot;]acl-entries/acl-entry[sequence-id=&quot;5&quot;]/state/matched-packets\",\"period\": 1000,  \"incident_id\": 1234}'\n",
    "requests.post('http://%s:8320/sendrpc'% (LOCAL), headers=headers, data=data)\n"
   ]
  },
  {
   "cell_type": "markdown",
   "metadata": {
    "collapsed": true,
    "deletable": true,
    "editable": true
   },
   "source": [
    "Take a look at Your ELK Stack (that you built outside this Notebook.  You have...Useful Information!\n",
    "\n",
    "Telemetry Stack\n",
    "![](images/telemetry_stack.png)"
   ]
  },
  {
   "cell_type": "code",
   "execution_count": null,
   "metadata": {
    "collapsed": true,
    "deletable": true,
    "editable": true
   },
   "outputs": [],
   "source": []
  }
 ],
 "metadata": {
  "anaconda-cloud": {},
  "kernelspec": {
   "display_name": "Python 2",
   "language": "python",
   "name": "python2"
  },
  "language_info": {
   "codemirror_mode": {
    "name": "ipython",
    "version": 2
   },
   "file_extension": ".py",
   "mimetype": "text/x-python",
   "name": "python",
   "nbconvert_exporter": "python",
   "pygments_lexer": "ipython2",
   "version": "2.7.13"
  }
 },
 "nbformat": 4,
 "nbformat_minor": 2
}
